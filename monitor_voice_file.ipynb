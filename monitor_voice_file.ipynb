{
 "cells": [
  {
   "cell_type": "code",
   "execution_count": 1,
   "metadata": {},
   "outputs": [],
   "source": [
    "import os\n",
    "import time\n",
    "import datetime"
   ]
  },
  {
   "cell_type": "code",
   "execution_count": 5,
   "metadata": {},
   "outputs": [],
   "source": [
    "import time\n",
    "from watchdog.observers import Observer\n",
    "from watchdog.events import FileSystemEventHandler\n",
    "\n",
    "class Watcher:\n",
    "#     DIRECTORY_TO_WATCH = \"/path/to/my/directory\"\n",
    "\n",
    "    def __init__(self, DIRECTORY_TO_WATCH):\n",
    "        self.observer = Observer()\n",
    "        self.DIRECTORY_TO_WATCH = DIRECTORY_TO_WATCH\n",
    "\n",
    "    def run(self):\n",
    "        event_handler = Handler()\n",
    "        self.observer.schedule(event_handler, self.DIRECTORY_TO_WATCH, recursive=True)\n",
    "        self.observer.start()\n",
    "        try:\n",
    "            while True:\n",
    "                time.sleep(0.01)\n",
    "        except:\n",
    "            self.observer.stop()\n",
    "            print(\"Error\")\n",
    "\n",
    "        self.observer.join()\n",
    "\n",
    "\n",
    "class Handler(FileSystemEventHandler):\n",
    "\n",
    "    @staticmethod\n",
    "    def on_any_event(event):\n",
    "        if event.is_directory:\n",
    "            return None\n",
    "\n",
    "        elif event.event_type == 'created':\n",
    "            # Take any action here when a file is first created.\n",
    "            print(\"Received created event - %s.\" % event.src_path)\n",
    "\n",
    "        elif event.event_type == 'modified':\n",
    "            # Taken any action here when a file is modified.\n",
    "#             print(\"Received modified event - %s.\" % event.src_path)\n",
    "            \n",
    "            if 'decompressed' in event.src_path:\n",
    "                time = datetime.datetime.now().time()\n",
    "                size = os.path.getsize(event.src_path)\n",
    "                print(f'{time} new voice_decompressed.wav size {size}')"
   ]
  },
  {
   "cell_type": "code",
   "execution_count": null,
   "metadata": {},
   "outputs": [],
   "source": []
  },
  {
   "cell_type": "code",
   "execution_count": 3,
   "metadata": {},
   "outputs": [],
   "source": [
    "csgo_path = \"C:\\Program Files (x86)\\Steam\\steamapps\\common\\Counter-Strike Global Offensive\""
   ]
  },
  {
   "cell_type": "code",
   "execution_count": 4,
   "metadata": {
    "scrolled": true
   },
   "outputs": [],
   "source": [
    "# w = Watcher(csgo_path)\n",
    "# w.run()"
   ]
  },
  {
   "cell_type": "code",
   "execution_count": null,
   "metadata": {},
   "outputs": [],
   "source": []
  },
  {
   "cell_type": "code",
   "execution_count": 6,
   "metadata": {},
   "outputs": [],
   "source": [
    "import shutil\n",
    "import os\n",
    "import time\n",
    "\n",
    "import pyautogui"
   ]
  },
  {
   "cell_type": "code",
   "execution_count": 7,
   "metadata": {},
   "outputs": [],
   "source": [
    "class Parser:\n",
    "    def __init__(self, csgo_path, max_file_size=800000):\n",
    "        # csgo stops storing voice data when file size reaches 1048620\n",
    "        self.csgo_path = csgo_path\n",
    "        self.file = os.path.join(csgo_path, 'voice_decompressed.wav')\n",
    "        self.max_file_size = max_file_size\n",
    "        self.counter = 0\n",
    "        pass\n",
    "    \n",
    "    \n",
    "    def rewind(self):\n",
    "        pyautogui.press('f3')\n",
    "    \n",
    "    \n",
    "    def normal_speed(self):\n",
    "        pyautogui.press('f4')\n",
    "        \n",
    "        \n",
    "    def pause(self):\n",
    "        pyautogui.press('f5')\n",
    "        \n",
    "        \n",
    "    def resume(self):\n",
    "        pyautogui.press('f6')\n",
    "        \n",
    "        \n",
    "    def start_record(self):\n",
    "        pyautogui.keyUp('c')\n",
    "        time.sleep(0.5)\n",
    "        pyautogui.keyDown('c')\n",
    "        \n",
    "        \n",
    "    def stop_record(self):\n",
    "        self.pause()\n",
    "        pyautogui.keyUp('c')\n",
    "        time.sleep(0.5)\n",
    "        shutil.copy(self.file, os.path.join(csgo_path, f'voice_{self.counter}.wav'))\n",
    "        #         shutil.rmtree(self.file)\n",
    "        self.counter += 1\n",
    "\n",
    "        \n",
    "    def file_is_small_yet(self):\n",
    "        return os.path.getsize(os.path.join(self.csgo_path, 'voice_decompressed.wav')) <= self.max_file_size\n",
    "    \n",
    "    \n",
    "    def record_one_more_file(self):\n",
    "        \n",
    "        # before start\n",
    "        # open csgo, load demo, put to pause (F5)\n",
    "        \n",
    "        time.sleep(2)\n",
    "        self.start_record()\n",
    "        self.resume()\n",
    "        \n",
    "        while(self.file_is_small_yet()):\n",
    "            continue\n",
    "            \n",
    "        self.pause()\n",
    "        self.stop_record()"
   ]
  },
  {
   "cell_type": "code",
   "execution_count": 8,
   "metadata": {},
   "outputs": [],
   "source": [
    "parser = Parser(csgo_path)"
   ]
  },
  {
   "cell_type": "code",
   "execution_count": null,
   "metadata": {
    "scrolled": true
   },
   "outputs": [],
   "source": [
    "parser.record_one_more_file()"
   ]
  },
  {
   "cell_type": "code",
   "execution_count": null,
   "metadata": {},
   "outputs": [],
   "source": []
  },
  {
   "cell_type": "code",
   "execution_count": null,
   "metadata": {},
   "outputs": [],
   "source": []
  },
  {
   "cell_type": "code",
   "execution_count": 21,
   "metadata": {},
   "outputs": [],
   "source": [
    "from pynput.keyboard import Key, Controller\n",
    "\n",
    "keyboard = Controller()"
   ]
  },
  {
   "cell_type": "code",
   "execution_count": 23,
   "metadata": {},
   "outputs": [],
   "source": [
    "time.sleep(6)\n",
    "\n",
    "keyboard.press(Key.f6)\n",
    "time.sleep(0.1)\n",
    "keyboard.release(Key.f6)"
   ]
  },
  {
   "cell_type": "code",
   "execution_count": null,
   "metadata": {},
   "outputs": [],
   "source": []
  },
  {
   "cell_type": "code",
   "execution_count": null,
   "metadata": {},
   "outputs": [],
   "source": []
  }
 ],
 "metadata": {
  "kernelspec": {
   "display_name": "Python 3",
   "language": "python",
   "name": "python3"
  },
  "language_info": {
   "codemirror_mode": {
    "name": "ipython",
    "version": 3
   },
   "file_extension": ".py",
   "mimetype": "text/x-python",
   "name": "python",
   "nbconvert_exporter": "python",
   "pygments_lexer": "ipython3",
   "version": "3.7.6"
  }
 },
 "nbformat": 4,
 "nbformat_minor": 4
}
