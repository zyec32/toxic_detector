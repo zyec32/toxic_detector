{
 "cells": [
  {
   "cell_type": "code",
   "execution_count": 1,
   "metadata": {},
   "outputs": [],
   "source": [
    "import os\n",
    "import time\n",
    "import datetime"
   ]
  },
  {
   "cell_type": "code",
   "execution_count": 2,
   "metadata": {},
   "outputs": [],
   "source": [
    "import time\n",
    "from watchdog.observers import Observer\n",
    "from watchdog.events import FileSystemEventHandler\n",
    "\n",
    "class Watcher:\n",
    "#     DIRECTORY_TO_WATCH = \"/path/to/my/directory\"\n",
    "\n",
    "    def __init__(self, DIRECTORY_TO_WATCH):\n",
    "        self.observer = Observer()\n",
    "        self.DIRECTORY_TO_WATCH = DIRECTORY_TO_WATCH\n",
    "\n",
    "    def run(self):\n",
    "        event_handler = Handler()\n",
    "        self.observer.schedule(event_handler, self.DIRECTORY_TO_WATCH, recursive=True)\n",
    "        self.observer.start()\n",
    "        try:\n",
    "            while True:\n",
    "                time.sleep(0.01)\n",
    "        except:\n",
    "            self.observer.stop()\n",
    "            print(\"Error\")\n",
    "\n",
    "        self.observer.join()\n",
    "\n",
    "\n",
    "class Handler(FileSystemEventHandler):\n",
    "\n",
    "    @staticmethod\n",
    "    def on_any_event(event):\n",
    "        if event.is_directory:\n",
    "            return None\n",
    "\n",
    "        elif event.event_type == 'created':\n",
    "            # Take any action here when a file is first created.\n",
    "            print(\"Received created event - %s.\" % event.src_path)\n",
    "\n",
    "        elif event.event_type == 'modified':\n",
    "            # Taken any action here when a file is modified.\n",
    "#             print(\"Received modified event - %s.\" % event.src_path)\n",
    "            \n",
    "            if 'decompressed' in event.src_path:\n",
    "                time = datetime.datetime.now().time()\n",
    "                size = os.path.getsize(event.src_path)\n",
    "                print(f'{time} new voice_decompressed.wav size {size}')\n",
    "                size_values.append(size)"
   ]
  },
  {
   "cell_type": "code",
   "execution_count": null,
   "metadata": {},
   "outputs": [],
   "source": []
  },
  {
   "cell_type": "code",
   "execution_count": 22,
   "metadata": {},
   "outputs": [],
   "source": [
    "csgo_path = \"C:\\Program Files (x86)\\Steam\\steamapps\\common\\Counter-Strike Global Offensive\""
   ]
  },
  {
   "cell_type": "code",
   "execution_count": 4,
   "metadata": {
    "scrolled": true
   },
   "outputs": [
    {
     "name": "stdout",
     "output_type": "stream",
     "text": [
      "Received created event - C:\\Program Files (x86)\\Steam\\steamapps\\common\\Counter-Strike Global Offensive\\voice_decompressed.wav.\n",
      "03:45:54.294292 new voice_decompressed.wav size 663596\n",
      "Received created event - C:\\Program Files (x86)\\Steam\\steamapps\\common\\Counter-Strike Global Offensive\\voices\\razborka.wav.\n",
      "Received created event - C:\\Program Files (x86)\\Steam\\steamapps\\common\\Counter-Strike Global Offensive\\voices\\ebanoe_myaso.wav.\n",
      "Received created event - C:\\Program Files (x86)\\Steam\\steamapps\\common\\Counter-Strike Global Offensive\\voices\\blue_ale_kakoe_ti_myaso.wav.\n",
      "03:47:15.823760 new voice_decompressed.wav size 835584\n",
      "03:47:15.824760 new voice_decompressed.wav size 838700\n",
      "03:47:15.825758 new voice_decompressed.wav size 838700\n",
      "03:47:39.355987 new voice_decompressed.wav size 4096\n",
      "03:47:39.356986 new voice_decompressed.wav size 1048620\n",
      "03:47:39.357633 new voice_decompressed.wav size 1048620\n",
      "03:48:12.528957 new voice_decompressed.wav size 4096\n",
      "03:48:12.529957 new voice_decompressed.wav size 1048620\n",
      "03:48:12.530956 new voice_decompressed.wav size 1048620\n",
      "03:48:12.530956 new voice_decompressed.wav size 1048620\n",
      "Received created event - C:\\Program Files (x86)\\Steam\\steamapps\\common\\Counter-Strike Global Offensive\\voice_decompressed — копия.wav.\n",
      "03:48:48.830240 new voice_decompressed.wav size 1048620\n",
      "03:48:48.831239 new voice_decompressed.wav size 1048620\n",
      "03:49:02.160569 new voice_decompressed.wav size 4096\n",
      "03:49:02.160569 new voice_decompressed.wav size 109612\n",
      "03:49:02.161569 new voice_decompressed.wav size 109612\n",
      "03:50:12.117425 new voice_decompressed.wav size 44\n",
      "03:50:12.117425 new voice_decompressed.wav size 44\n",
      "Received created event - C:\\Program Files (x86)\\Steam\\steamapps\\common\\Counter-Strike Global Offensive\\voice_decompressed.wav.\n",
      "03:50:40.402883 new voice_decompressed.wav size 87084\n",
      "03:51:03.778405 new voice_decompressed.wav size 44\n",
      "03:51:03.779404 new voice_decompressed.wav size 44\n",
      "03:51:05.632597 new voice_decompressed.wav size 44\n",
      "03:51:05.633596 new voice_decompressed.wav size 44\n",
      "03:51:25.601931 new voice_decompressed.wav size 4096\n",
      "03:51:25.602930 new voice_decompressed.wav size 313388\n",
      "Error\n"
     ]
    }
   ],
   "source": [
    "size_values = []\n",
    "\n",
    "w = Watcher(csgo_path)\n",
    "w.run()"
   ]
  },
  {
   "cell_type": "code",
   "execution_count": null,
   "metadata": {},
   "outputs": [],
   "source": []
  },
  {
   "cell_type": "code",
   "execution_count": 18,
   "metadata": {},
   "outputs": [],
   "source": [
    "import shutil\n",
    "import os\n",
    "import time\n",
    "\n",
    "import pyautogui"
   ]
  },
  {
   "cell_type": "code",
   "execution_count": 27,
   "metadata": {},
   "outputs": [],
   "source": [
    "class Parser:\n",
    "    def __init__(self, csgo_path, max_file_size=800000):\n",
    "        # csgo stops storing voice data when file size reaches 1048620\n",
    "        self.csgo_path = csgo_path\n",
    "        self.file = os.path.join(csgo_path, 'voice_decompressed.wav')\n",
    "        self.counter = 0\n",
    "        pass\n",
    "    \n",
    "    \n",
    "    def rewind(self):\n",
    "        pyautogui.press('f3')\n",
    "    \n",
    "    \n",
    "    def normal_speed(self):\n",
    "        pyautogui.press('f4')\n",
    "        \n",
    "        \n",
    "    def pause(self):\n",
    "        pyautogui.press('f5')\n",
    "        \n",
    "        \n",
    "    def resume(self):\n",
    "        pyautogui.press('f6')\n",
    "        \n",
    "        \n",
    "    def start_record(self):\n",
    "        pyautogui.keyDown('c')\n",
    "        \n",
    "        \n",
    "    def stop_record(self):\n",
    "        self.pause()\n",
    "        pyautogui.keyUp('c')\n",
    "        time.sleep(0.5)\n",
    "        shutil.copy(self.file, os.path.join(csgo_path, f'voice_{self.counter}.wav'))\n",
    "        #         shutil.rmtree(self.file)\n",
    "        self.counter += 1\n",
    "\n",
    "        \n",
    "    def file_is_small_yet(self):\n",
    "        return os.path.getsize(os.path.join(self.csgo_path, 'voice_decompressed.wav')) <= self.max_file_size\n",
    "    \n",
    "    \n",
    "    def record_one_more_file(self):\n",
    "        \n",
    "        # before start\n",
    "        # open csgo, load demo, put to pause (F5)\n",
    "        \n",
    "        time.sleep(2)\n",
    "        self.start_record()\n",
    "        self.resume()\n",
    "        \n",
    "        while(self.file_is_small_yet()):\n",
    "            continue\n",
    "            \n",
    "        self.pause()\n",
    "        self.stop_record()"
   ]
  },
  {
   "cell_type": "code",
   "execution_count": 24,
   "metadata": {},
   "outputs": [],
   "source": [
    "parser = Parser(csgo_path)"
   ]
  },
  {
   "cell_type": "code",
   "execution_count": 26,
   "metadata": {},
   "outputs": [
    {
     "data": {
      "text/plain": [
       "1048620"
      ]
     },
     "execution_count": 26,
     "metadata": {},
     "output_type": "execute_result"
    }
   ],
   "source": [
    "os.path.getsize(os.path.join(csgo_path, 'v1.wav'))"
   ]
  },
  {
   "cell_type": "code",
   "execution_count": null,
   "metadata": {},
   "outputs": [],
   "source": []
  },
  {
   "cell_type": "code",
   "execution_count": null,
   "metadata": {},
   "outputs": [],
   "source": []
  },
  {
   "cell_type": "code",
   "execution_count": null,
   "metadata": {},
   "outputs": [],
   "source": []
  },
  {
   "cell_type": "code",
   "execution_count": null,
   "metadata": {},
   "outputs": [],
   "source": []
  },
  {
   "cell_type": "code",
   "execution_count": null,
   "metadata": {},
   "outputs": [],
   "source": []
  },
  {
   "cell_type": "code",
   "execution_count": null,
   "metadata": {},
   "outputs": [],
   "source": []
  },
  {
   "cell_type": "code",
   "execution_count": null,
   "metadata": {},
   "outputs": [],
   "source": []
  },
  {
   "cell_type": "code",
   "execution_count": null,
   "metadata": {},
   "outputs": [],
   "source": []
  },
  {
   "cell_type": "code",
   "execution_count": null,
   "metadata": {},
   "outputs": [],
   "source": []
  }
 ],
 "metadata": {
  "kernelspec": {
   "display_name": "Python 3",
   "language": "python",
   "name": "python3"
  }
 },
 "nbformat": 4,
 "nbformat_minor": 4
}
