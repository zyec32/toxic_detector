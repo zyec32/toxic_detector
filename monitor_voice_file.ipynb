{
 "cells": [
  {
   "cell_type": "code",
   "execution_count": 162,
   "metadata": {},
   "outputs": [],
   "source": [
    "import os\n",
    "import time\n",
    "import datetime\n",
    "import pathlib\n",
    "import glob"
   ]
  },
  {
   "cell_type": "code",
   "execution_count": 99,
   "metadata": {},
   "outputs": [
    {
     "data": {
      "text/plain": [
       "['csgo.sh',\n",
       " '.DS_Store',\n",
       " 'bin',\n",
       " 'steam_appid.txt',\n",
       " 'installscript.vdf',\n",
       " 'platform',\n",
       " 'chrome.pak',\n",
       " 'csgo_osx64',\n",
       " 'thirdpartylegalnotices.doc',\n",
       " 'WINDOWSTEMPDIR_FONTCONFIG_CACHE',\n",
       " 'csgo',\n",
       " 'EmptySteamDepot']"
      ]
     },
     "execution_count": 99,
     "metadata": {},
     "output_type": "execute_result"
    }
   ],
   "source": [
    "# csgo_path = \"C:\\Program Files (x86)\\Steam\\steamapps\\common\\Counter-Strike Global Offensive\"\n",
    "\n",
    "csgo_path = os.path.join(\n",
    "    '/Users', 'necuk', 'Library', 'Application Support', 'Steam', 'steamapps',\n",
    "    'common', 'Counter-Strike Global Offensive'\n",
    ")\n",
    "\n",
    "os.listdir(csgo_path)"
   ]
  },
  {
   "cell_type": "code",
   "execution_count": null,
   "metadata": {},
   "outputs": [],
   "source": []
  },
  {
   "cell_type": "code",
   "execution_count": 100,
   "metadata": {},
   "outputs": [],
   "source": [
    "import shutil\n",
    "import os\n",
    "import time\n",
    "\n",
    "import pyautogui"
   ]
  },
  {
   "cell_type": "code",
   "execution_count": 173,
   "metadata": {},
   "outputs": [],
   "source": [
    "class Parser:\n",
    "    def __init__(self, csgo_path, output_folder='voice_output', parsing_time=0.3, file_size_alert=800000):\n",
    "        # csgo stops storing voice data when file size reaches 1048620\n",
    "        self.csgo_path = csgo_path\n",
    "        self.voice_file = os.path.join(csgo_path, 'voice_decompressed.wav')\n",
    "        self.file_size_alert = file_size_alert\n",
    "        self.counter = 0\n",
    "        self.prev_file_size = 0\n",
    "        self.parsing_time = parsing_time\n",
    "        self.output_folder = os.path.join(csgo_path, output_folder)\n",
    "        os.makedirs(self.output_folder, exist_ok=True)\n",
    "#         self.empty_output_folder()\n",
    "    \n",
    "    \n",
    "    def empty_output_folder(self):\n",
    "        os.makedirs(self.output_folder, exist_ok=True)\n",
    "        files = glob.glob(f'{self.output_folder}/*')\n",
    "        for f in files:\n",
    "            os.remove(f)\n",
    "    \n",
    "    \n",
    "    def fast_forward(self):\n",
    "        pyautogui.press('f1')\n",
    "       \n",
    "    \n",
    "    def a_bit_faster(self):\n",
    "        pyautogui.press('f3')\n",
    "    \n",
    "    \n",
    "    def normal_speed(self):\n",
    "        pyautogui.press('f4')\n",
    "        \n",
    "        \n",
    "    def pause(self):\n",
    "        pyautogui.press('f5')\n",
    "        \n",
    "        \n",
    "    def resume(self):\n",
    "        pyautogui.press('f6')\n",
    "        \n",
    "        \n",
    "    def start_record(self):\n",
    "        pyautogui.keyDown('c')\n",
    "        \n",
    "        \n",
    "    def stop_record(self):\n",
    "        self.pause()\n",
    "        pyautogui.keyUp('c')\n",
    "        time.sleep(0.02)\n",
    "        \n",
    "        size = os.path.getsize(self.voice_file)\n",
    "        print(f\"voice file size {size}\", flush=True)\n",
    "        \n",
    "        if self.file_size_alert <= size < 1048620:\n",
    "            print(f\"***** ALERT FILE SIZE IS {size}\")\n",
    "        elif size == 1048620:\n",
    "            raise Exception(\"too big file! you have to store records more frequently\")\n",
    "            \n",
    "        # empty wav file\n",
    "        if size != 44:\n",
    "            shutil.copy(self.voice_file, os.path.join(self.csgo_path, self.output_folder, f'voice_{self.counter}.wav'))\n",
    "            self.counter += 1\n",
    "        else:\n",
    "            print(\"** empty voice file, skip\")\n",
    "            \n",
    "        os.remove(self.voice_file)\n",
    "        self.last_file_create_time = time.time()\n",
    "\n",
    "        \n",
    "    def file_is_small_yet(self):\n",
    "        if not pathlib.Path(self.voice_file).is_file():\n",
    "            return True\n",
    "        \n",
    "        size = os.path.getsize(self.voice_file)\n",
    "        \n",
    "        if self.prev_file_size != size:\n",
    "            print(f\"current file size {size}\", flush=True)\n",
    "            self.prev_file_size = size\n",
    "            \n",
    "        return size <= self.file_size_alert\n",
    "    \n",
    "    \n",
    "    def record_one_more_file(self):\n",
    "        \n",
    "        # before start\n",
    "        # open csgo, load demo, put to pause (F5)\n",
    "        \n",
    "        print(f'=== generating voice file {self.counter}', flush=True)\n",
    "        print('recording...', flush=True)\n",
    "        self.fast_forward()\n",
    "        self.start_record()\n",
    "        self.resume()\n",
    "        \n",
    "#         while(self.file_is_small_yet()):\n",
    "#             continue\n",
    "\n",
    "        time.sleep(self.parsing_time)\n",
    "            \n",
    "        self.normal_speed()\n",
    "#         time.sleep(0.02)\n",
    "        self.pause()\n",
    "        self.stop_record()\n",
    "        \n",
    "    \n",
    "    def run(self):\n",
    "        while True:\n",
    "            self.record_one_more_file()\n",
    "            if (time.time() - self.last_file_create_time) >= 20:\n",
    "                break\n",
    "        \n",
    "        \n",
    "    def monitor(self):\n",
    "        while(self.file_is_small_yet()):\n",
    "            continue"
   ]
  },
  {
   "cell_type": "code",
   "execution_count": 163,
   "metadata": {},
   "outputs": [],
   "source": []
  },
  {
   "cell_type": "code",
   "execution_count": 174,
   "metadata": {},
   "outputs": [],
   "source": [
    "parser = Parser(csgo_path, parsing_time=0.3)"
   ]
  },
  {
   "cell_type": "code",
   "execution_count": 176,
   "metadata": {
    "scrolled": true
   },
   "outputs": [],
   "source": [
    "parser.empty_output_folder()\n",
    "parser.run()"
   ]
  },
  {
   "cell_type": "code",
   "execution_count": null,
   "metadata": {},
   "outputs": [],
   "source": []
  }
 ],
 "metadata": {
  "kernelspec": {
   "display_name": "Python 3",
   "language": "python",
   "name": "python3"
  },
  "language_info": {
   "codemirror_mode": {
    "name": "ipython",
    "version": 3
   },
   "file_extension": ".py",
   "mimetype": "text/x-python",
   "name": "python",
   "nbconvert_exporter": "python",
   "pygments_lexer": "ipython3",
   "version": "3.7.3"
  }
 },
 "nbformat": 4,
 "nbformat_minor": 4
}
